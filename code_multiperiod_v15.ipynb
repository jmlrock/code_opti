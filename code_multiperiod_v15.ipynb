{
 "cells": [
  {
   "cell_type": "code",
   "execution_count": 11,
   "metadata": {},
   "outputs": [],
   "source": [
    "using JuMP, Gurobi, Random, Distributions, LinearAlgebra, Plots, CSV, DataFrames, Parsers\n"
   ]
  },
  {
   "cell_type": "markdown",
   "metadata": {},
   "source": [
    "# Lecture 7 Notes"
   ]
  },
  {
   "cell_type": "markdown",
   "metadata": {},
   "source": [
    "## Nominal Model - Known returns"
   ]
  },
  {
   "cell_type": "markdown",
   "metadata": {},
   "source": [
    "### Parameters"
   ]
  },
  {
   "cell_type": "code",
   "execution_count": 15,
   "metadata": {},
   "outputs": [
    {
     "data": {
      "text/plain": [
       "5×20 Array{Float64,2}:\n",
       " 0.418353  0.579713   0.969058  0.857209  …  0.440889  0.0687617  0.292623\n",
       " 0.998458  0.742244   0.803985  0.799554     0.566242  0.316321   0.981787\n",
       " 0.481592  0.0593575  0.42382   0.841182     0.755878  0.475002   0.27427\n",
       " 0.188815  0.242246   0.41115   0.541593     0.902843  0.592553   0.516749\n",
       " 0.880004  0.0602065  0.803132  0.187251     0.050698  0.165822   0.814617"
      ]
     },
     "execution_count": 15,
     "metadata": {},
     "output_type": "execute_result"
    }
   ],
   "source": [
    "# Total number of assets; Number of risky assets = M-1\n",
    "M = 20 \n",
    "\n",
    "# Number of trading periods\n",
    "N = 5\n",
    "\n",
    "# brokerage fees\n",
    "csell = 0.03\n",
    "cbuy = 0.02\n",
    "\n",
    "# returns by asset and period\n",
    "#  riskless asset\n",
    "r₀ = ones(N) \n",
    "rₘ = rand(N,M)"
   ]
  },
  {
   "cell_type": "markdown",
   "metadata": {},
   "source": [
    "### Formulation"
   ]
  },
  {
   "cell_type": "code",
   "execution_count": 13,
   "metadata": {},
   "outputs": [
    {
     "name": "stdout",
     "output_type": "stream",
     "text": [
      "Academic license - for non-commercial use only - expires 2021-07-08\n",
      "Gurobi Optimizer version 9.1.0 build v9.1.0rc0 (mac64)\n",
      "Thread count: 2 physical cores, 4 logical processors, using up to 4 threads\n",
      "Optimize a model with 85 rows, 315 columns and 509 nonzeros\n",
      "Model fingerprint: 0x7d1cea4d\n",
      "Coefficient statistics:\n",
      "  Matrix range     [1e+00, 2e+00]\n",
      "  Objective range  [1e+00, 1e+00]\n",
      "  Bounds range     [0e+00, 0e+00]\n",
      "  RHS range        [1e+00, 1e+00]\n",
      "Presolve removed 21 rows and 131 columns\n",
      "Presolve time: 0.00s\n",
      "Presolved: 64 rows, 184 columns, 367 nonzeros\n",
      "\n",
      "Iteration    Objective       Primal Inf.    Dual Inf.      Time\n",
      "       0    4.0000000e+30   5.000000e+29   4.000000e+00      0s\n",
      "      63    1.6000000e+01   0.000000e+00   0.000000e+00      0s\n",
      "\n",
      "Solved in 63 iterations and 0.00 seconds\n",
      "Optimal objective  1.600000000e+01\n",
      "\n",
      "User-callback calls 107, time in user-callback 0.00 sec\n"
     ]
    }
   ],
   "source": [
    "#mod = Model(solver = GurobiSolver())\n",
    "mod = Model(Gurobi.Optimizer)\n",
    "\n",
    "##### Decision Variables #####\n",
    "\n",
    "# x, number of dollar holdings at the beginning of time period t on asset m\n",
    "@variable(mod, x[1:N, 0:M] >= 0)\n",
    "\n",
    "# u, dollar sells on asset m at time t\n",
    "@variable(mod, u[1:N, 0:M] >= 0)\n",
    "\n",
    "# v, dollar buys on asset m at time t\n",
    "@variable(mod, v[1:N, 0:M] >= 0)\n",
    "\n",
    "##### Constraints #####\n",
    "\n",
    "# buy and sell constraints\n",
    "@constraint(mod, [t=2:N,m=1:M], x[t,m] == (1+rₘ[t-1,m])*(x[t-1,m] - u[t-1,m] + v[t-1,m]))\n",
    "@constraint(mod, [t=2:N], x[t,0] == (1+r₀[t-1])*(x[t-1,0] + sum((1-csell)*u[t-1,m] for m = 1:M) - sum((1-cbuy)*v[t-1,m] for m = 1:M)))\n",
    "\n",
    "## NEED A CONSTRAINT ON THE AMOUNT OF CASH AVAILABLE AT T=0\n",
    "@constraint(mod, sum(x[1,m] for m in 0:M) <= 1)\n",
    "\n",
    "##### Objective Function #####\n",
    "\n",
    "# maximize expected final wealth\n",
    "@objective(mod, Max, sum(x[N,m] for m in 0:M))\n",
    "\n",
    "\n",
    "#solve(mod)\n",
    "optimize!(mod);"
   ]
  },
  {
   "cell_type": "code",
   "execution_count": 14,
   "metadata": {},
   "outputs": [
    {
     "data": {
      "text/plain": [
       "2-dimensional DenseAxisArray{Float64,2,...} with index sets:\n",
       "    Dimension 1, Base.OneTo(5)\n",
       "    Dimension 2, 0:20\n",
       "And data, a 5×21 Array{Float64,2}:\n",
       "  1.0  0.0  0.0  0.0  0.0  0.0  0.0  …  0.0  0.0  0.0  0.0  0.0  0.0  0.0\n",
       "  2.0  0.0  0.0  0.0  0.0  0.0  0.0     0.0  0.0  0.0  0.0  0.0  0.0  0.0\n",
       "  4.0  0.0  0.0  0.0  0.0  0.0  0.0     0.0  0.0  0.0  0.0  0.0  0.0  0.0\n",
       "  8.0  0.0  0.0  0.0  0.0  0.0  0.0     0.0  0.0  0.0  0.0  0.0  0.0  0.0\n",
       " 16.0  0.0  0.0  0.0  0.0  0.0  0.0     0.0  0.0  0.0  0.0  0.0  0.0  0.0"
      ]
     },
     "execution_count": 14,
     "metadata": {},
     "output_type": "execute_result"
    }
   ],
   "source": [
    "getvalue.(x)"
   ]
  },
  {
   "cell_type": "markdown",
   "metadata": {},
   "source": [
    "### Rolling optimization"
   ]
  },
  {
   "cell_type": "code",
   "execution_count": null,
   "metadata": {},
   "outputs": [],
   "source": []
  },
  {
   "cell_type": "markdown",
   "metadata": {},
   "source": [
    "## Robust Model - Reformulation"
   ]
  },
  {
   "cell_type": "markdown",
   "metadata": {},
   "source": [
    "### Parameters"
   ]
  },
  {
   "cell_type": "code",
   "execution_count": 55,
   "metadata": {},
   "outputs": [
    {
     "data": {
      "text/plain": [
       "4-element Array{Float64,1}:\n",
       " 1.0\n",
       " 1.0\n",
       " 1.0\n",
       " 1.0"
      ]
     },
     "execution_count": 55,
     "metadata": {},
     "output_type": "execute_result"
    }
   ],
   "source": [
    "# Cumulative Returns for at time 0\n",
    "R₀ = ones(M)\n",
    "\n",
    "#Cumulative Returns at time t for asset m\n",
    "Rₜ = []\n",
    "for t in 1:N:\n",
    "    \n",
    "        \n"
   ]
  },
  {
   "cell_type": "code",
   "execution_count": null,
   "metadata": {},
   "outputs": [],
   "source": [
    "rmod = Model(solver = GurobiSolver())\n",
    "\n",
    "##### Decision Variables #####\n",
    "\n",
    "# x, number of dollar holdings at the beginning of time period t on asset m\n",
    "@variable(rmod, x[1:N, 0:M] >= 0)\n",
    "\n",
    "# u, dollar sells on asset m at time t\n",
    "@variable(rmod, u[1:N, 0:M] >= 0)\n",
    "\n",
    "# v, dollar buys on asset m at time t\n",
    "@variable(rmod, v[1:N, 0:M] >= 0)\n",
    "\n",
    "# Reformulation Variables\n",
    "\n",
    "\n",
    "##### Constraints #####\n",
    "\n",
    "# buy and sell constraints\n",
    "@constraint(rmod, [t=2:N,m=1:M], x[t,m] == (1+rₘ[t-1,m])*(x[t-1,m] - u[t-1,m] + v[t-1,m]))\n",
    "@constraint(rmod, [t=2:N], x[t,0] == (1+r₀[t-1])*(x[t-1,0] + sum((1-csell)*u[t-1,m] for m = 1:M) - sum((1-cbuy)*v[t-1,m] for m = 1:M)))\n",
    "\n",
    "########### NEED A CONSTRAINT ON THE AMOUNT OF CASH AVAILABLE AT T=0\n",
    "@constraint(rmod, sum(x[1,m] for m in 0:M) <= 1)\n",
    "\n",
    "\n",
    "\n",
    "\n",
    "##### Objective Function #####\n",
    "\n",
    "# maximize expected final wealth\n",
    "@objective(rmod, Max, sum(x[N,m] for m in 0:M))\n",
    "\n",
    "solve(rmod)"
   ]
  }
 ],
 "metadata": {
  "kernelspec": {
   "display_name": "Julia 1.5.3",
   "language": "julia",
   "name": "julia-1.5"
  },
  "language_info": {
   "file_extension": ".jl",
   "mimetype": "application/julia",
   "name": "julia",
   "version": "1.5.3"
  },
  "varInspector": {
   "cols": {
    "lenName": 16,
    "lenType": 16,
    "lenVar": 40
   },
   "kernels_config": {
    "python": {
     "delete_cmd_postfix": "",
     "delete_cmd_prefix": "del ",
     "library": "var_list.py",
     "varRefreshCmd": "print(var_dic_list())"
    },
    "r": {
     "delete_cmd_postfix": ") ",
     "delete_cmd_prefix": "rm(",
     "library": "var_list.r",
     "varRefreshCmd": "cat(var_dic_list()) "
    }
   },
   "types_to_exclude": [
    "module",
    "function",
    "builtin_function_or_method",
    "instance",
    "_Feature"
   ],
   "window_display": false
  }
 },
 "nbformat": 4,
 "nbformat_minor": 4
}
