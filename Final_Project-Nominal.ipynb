{
 "cells": [
  {
   "cell_type": "code",
   "execution_count": 1,
   "metadata": {},
   "outputs": [
    {
     "ename": "ArgumentError",
     "evalue": "\u001b[91mArgumentError: Package JuMP not found in current path:\u001b[39m\n\u001b[91m- Run `import Pkg; Pkg.add(\"JuMP\")` to install the JuMP package.\u001b[39m\n",
     "output_type": "error",
     "traceback": [
      "\u001b[91mArgumentError: Package JuMP not found in current path:\u001b[39m\n\u001b[91m- Run `import Pkg; Pkg.add(\"JuMP\")` to install the JuMP package.\u001b[39m\n",
      "",
      "Stacktrace:",
      " [1] require(::Module, ::Symbol) at ./loading.jl:823",
      " [2] top-level scope at In[1]:1"
     ]
    }
   ],
   "source": [
    "using JuMP, JuMPeR, Gurobi, Random, Distributions, LinearAlgebra, Plots, CSV, DataFrames, Parsers"
   ]
  },
  {
   "cell_type": "markdown",
   "metadata": {},
   "source": [
    "# Lecture 7 Notes"
   ]
  },
  {
   "cell_type": "markdown",
   "metadata": {},
   "source": [
    "## Nominal Model - Known returns"
   ]
  },
  {
   "cell_type": "markdown",
   "metadata": {},
   "source": [
    "### Parameters"
   ]
  },
  {
   "cell_type": "code",
   "execution_count": 58,
   "metadata": {},
   "outputs": [
    {
     "data": {
      "text/plain": [
       "5×20 Array{Float64,2}:\n",
       " 0.785203  0.819186   0.160995   0.13234   …  0.844656  0.411823   0.28412  \n",
       " 0.366932  0.9452     0.762979   0.309001     0.550543  0.249389   0.769855 \n",
       " 0.368773  0.0682555  0.3565     0.864989     0.517231  0.0060172  0.416996 \n",
       " 0.436183  0.202712   0.955486   0.178517     0.458126  0.619826   0.0392332\n",
       " 0.509694  0.204766   0.0140818  0.743806     0.398757  0.552265   0.581627 "
      ]
     },
     "execution_count": 58,
     "metadata": {},
     "output_type": "execute_result"
    }
   ],
   "source": [
    "# Total number of assets; Number of risky assets = M-1\n",
    "M = 20 \n",
    "\n",
    "# Number of trading periods\n",
    "N = 5\n",
    "\n",
    "# brokerage fees\n",
    "csell = 0.03\n",
    "cbuy = 0.02\n",
    "\n",
    "# returns by asset and period\n",
    "#  riskless asset\n",
    "r₀ = ones(N) \n",
    "rₘ = rand(N,M)"
   ]
  },
  {
   "cell_type": "markdown",
   "metadata": {},
   "source": [
    "### Formulation"
   ]
  },
  {
   "cell_type": "code",
   "execution_count": 59,
   "metadata": {},
   "outputs": [
    {
     "name": "stdout",
     "output_type": "stream",
     "text": [
      "Academic license - for non-commercial use only\n",
      "Gurobi Optimizer version 9.0.3 build v9.0.3rc0 (mac64)\n",
      "Optimize a model with 85 rows, 315 columns and 509 nonzeros\n",
      "Model fingerprint: 0x37a747b7\n",
      "Coefficient statistics:\n",
      "  Matrix range     [1e+00, 2e+00]\n",
      "  Objective range  [1e+00, 1e+00]\n",
      "  Bounds range     [0e+00, 0e+00]\n",
      "  RHS range        [1e+00, 1e+00]\n",
      "Presolve removed 19 rows and 107 columns\n",
      "Presolve time: 0.00s\n",
      "Presolved: 66 rows, 208 columns, 414 nonzeros\n",
      "\n",
      "Iteration    Objective       Primal Inf.    Dual Inf.      Time\n",
      "       0    3.0000000e+30   1.052547e+30   3.000000e+00      0s\n",
      "      73    1.6000000e+01   0.000000e+00   0.000000e+00      0s\n",
      "\n",
      "Solved in 73 iterations and 0.00 seconds\n",
      "Optimal objective  1.600000000e+01\n"
     ]
    },
    {
     "data": {
      "text/plain": [
       ":Optimal"
      ]
     },
     "execution_count": 59,
     "metadata": {},
     "output_type": "execute_result"
    }
   ],
   "source": [
    "mod = Model(solver = GurobiSolver())\n",
    "\n",
    "##### Decision Variables #####\n",
    "\n",
    "# x, number of dollar holdings at the beginning of time period t on asset m\n",
    "@variable(mod, x[1:N, 0:M] >= 0)\n",
    "\n",
    "# u, dollar sells on asset m at time t\n",
    "@variable(mod, u[1:N, 0:M] >= 0)\n",
    "\n",
    "# v, dollar buys on asset m at time t\n",
    "@variable(mod, v[1:N, 0:M] >= 0)\n",
    "\n",
    "##### Constraints #####\n",
    "\n",
    "# buy and sell constraints\n",
    "@constraint(mod, [t=2:N,m=1:M], x[t,m] == (1+rₘ[t-1,m])*(x[t-1,m] - u[t-1,m] + v[t-1,m]))\n",
    "@constraint(mod, [t=2:N], x[t,0] == (1+r₀[t-1])*(x[t-1,0] + sum((1-csell)*u[t-1,m] for m = 1:M) - sum((1-cbuy)*v[t-1,m] for m = 1:M)))\n",
    "\n",
    "## NEED A CONSTRAINT ON THE AMOUNT OF CASH AVAILABLE AT T=0\n",
    "@constraint(mod, sum(x[1,m] for m in 0:M) <= 1)\n",
    "\n",
    "##### Objective Function #####\n",
    "\n",
    "# maximize expected final wealth\n",
    "@objective(mod, Max, sum(x[N,m] for m in 0:M))\n",
    "\n",
    "solve(mod)"
   ]
  },
  {
   "cell_type": "markdown",
   "metadata": {},
   "source": [
    "## Robust Model - Reformulation"
   ]
  },
  {
   "cell_type": "markdown",
   "metadata": {},
   "source": [
    "### Parameters"
   ]
  },
  {
   "cell_type": "code",
   "execution_count": 55,
   "metadata": {},
   "outputs": [
    {
     "data": {
      "text/plain": [
       "4-element Array{Float64,1}:\n",
       " 1.0\n",
       " 1.0\n",
       " 1.0\n",
       " 1.0"
      ]
     },
     "execution_count": 55,
     "metadata": {},
     "output_type": "execute_result"
    }
   ],
   "source": [
    "# Cumulative Returns for at time 0\n",
    "R₀ = ones(M)\n",
    "\n",
    "#Cumulative Returns at time t for asset m\n",
    "Rₜ = []\n",
    "for t in 1:N:\n",
    "    \n",
    "        \n"
   ]
  },
  {
   "cell_type": "code",
   "execution_count": null,
   "metadata": {},
   "outputs": [],
   "source": [
    "rmod = Model(solver = GurobiSolver())\n",
    "\n",
    "##### Decision Variables #####\n",
    "\n",
    "# x, number of dollar holdings at the beginning of time period t on asset m\n",
    "@variable(rmod, x[1:N, 0:M] >= 0)\n",
    "\n",
    "# u, dollar sells on asset m at time t\n",
    "@variable(rmod, u[1:N, 0:M] >= 0)\n",
    "\n",
    "# v, dollar buys on asset m at time t\n",
    "@variable(rmod, v[1:N, 0:M] >= 0)\n",
    "\n",
    "# Reformulation Variables\n",
    "\n",
    "\n",
    "##### Constraints #####\n",
    "\n",
    "# buy and sell constraints\n",
    "@constraint(rmod, [t=2:N,m=1:M], x[t,m] == (1+rₘ[t-1,m])*(x[t-1,m] - u[t-1,m] + v[t-1,m]))\n",
    "@constraint(rmod, [t=2:N], x[t,0] == (1+r₀[t-1])*(x[t-1,0] + sum((1-csell)*u[t-1,m] for m = 1:M) - sum((1-cbuy)*v[t-1,m] for m = 1:M)))\n",
    "\n",
    "########### NEED A CONSTRAINT ON THE AMOUNT OF CASH AVAILABLE AT T=0\n",
    "@constraint(rmod, sum(x[1,m] for m in 0:M) <= 1)\n",
    "\n",
    "\n",
    "\n",
    "\n",
    "##### Objective Function #####\n",
    "\n",
    "# maximize expected final wealth\n",
    "@objective(rmod, Max, sum(x[N,m] for m in 0:M))\n",
    "\n",
    "solve(rmod)"
   ]
  }
 ],
 "metadata": {
  "kernelspec": {
   "display_name": "Julia 1.0.5",
   "language": "julia",
   "name": "julia-1.0"
  },
  "language_info": {
   "file_extension": ".jl",
   "mimetype": "application/julia",
   "name": "julia",
   "version": "1.0.5"
  },
  "varInspector": {
   "cols": {
    "lenName": 16,
    "lenType": 16,
    "lenVar": 40
   },
   "kernels_config": {
    "python": {
     "delete_cmd_postfix": "",
     "delete_cmd_prefix": "del ",
     "library": "var_list.py",
     "varRefreshCmd": "print(var_dic_list())"
    },
    "r": {
     "delete_cmd_postfix": ") ",
     "delete_cmd_prefix": "rm(",
     "library": "var_list.r",
     "varRefreshCmd": "cat(var_dic_list()) "
    }
   },
   "types_to_exclude": [
    "module",
    "function",
    "builtin_function_or_method",
    "instance",
    "_Feature"
   ],
   "window_display": false
  }
 },
 "nbformat": 4,
 "nbformat_minor": 4
}
