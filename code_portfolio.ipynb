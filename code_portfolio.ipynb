{
 "cells": [
  {
   "cell_type": "code",
   "execution_count": 1,
   "metadata": {},
   "outputs": [],
   "source": [
    "using JuMP, JuMPeR, Gurobi, Random, Distributions, LinearAlgebra, DataFrames, Plots"
   ]
  },
  {
   "cell_type": "code",
   "execution_count": 46,
   "metadata": {},
   "outputs": [],
   "source": [
    "mu = [0.01, 0.08, 0.02]\n",
    "\n",
    "S = zeros(3,3)\n",
    "S[1,1] = 1\n",
    "S[2,2] = 1\n",
    "S[3,3] = 1\n",
    "\n",
    "S[1,2] = 0.04\n",
    "S[2, 3] = 0.4\n",
    "S[1, 3] = 0.2\n",
    "\n",
    "for i=1:3\n",
    "    for j=i+1:3\n",
    "        S[j,i] = S[i,j]\n",
    "    end\n",
    "end"
   ]
  },
  {
   "cell_type": "code",
   "execution_count": 47,
   "metadata": {},
   "outputs": [
    {
     "data": {
      "text/plain": [
       "(3,)"
      ]
     },
     "execution_count": 47,
     "metadata": {},
     "output_type": "execute_result"
    }
   ],
   "source": [
    "size(mu)"
   ]
  },
  {
   "cell_type": "code",
   "execution_count": 49,
   "metadata": {},
   "outputs": [
    {
     "name": "stdout",
     "output_type": "stream",
     "text": [
      "\n",
      "--------------------------------------------\n",
      "Warning: your license will expire in 5 days\n",
      "--------------------------------------------\n",
      "\n",
      "Academic license - for non-commercial use only\n",
      "Gurobi Optimizer version 9.0.3 build v9.0.3rc0 (mac64)\n",
      "Optimize a model with 1 rows, 7 columns and 3 nonzeros\n",
      "Model fingerprint: 0xb02f7dd3\n",
      "Model has 1 quadratic constraint\n",
      "Coefficient statistics:\n",
      "  Matrix range     [1e+00, 1e+00]\n",
      "  QMatrix range    [2e-02, 2e-01]\n",
      "  QLMatrix range   [1e-02, 1e+00]\n",
      "  Objective range  [1e+00, 1e+00]\n",
      "  Bounds range     [0e+00, 0e+00]\n",
      "  RHS range        [1e+00, 1e+00]\n",
      "Presolve removed 0 rows and 4 columns\n",
      "Presolve time: 0.00s\n",
      "Presolved: 1 rows, 3 columns, 3 nonzeros\n",
      "Presolved model has 6 quadratic objective terms\n",
      "Ordering time: 0.00s\n",
      "\n",
      "Barrier statistics:\n",
      " Free vars  : 2\n",
      " AA' NZ     : 3.000e+00\n",
      " Factor NZ  : 6.000e+00\n",
      " Factor Ops : 1.400e+01 (less than 1 second per iteration)\n",
      " Threads    : 1\n",
      "\n",
      "                  Objective                Residual\n",
      "Iter       Primal          Dual         Primal    Dual     Compl     Time\n",
      "   0  -1.68086442e+05  1.68196556e+05  3.00e+03 2.00e-02  1.00e+06     0s\n",
      "   1  -1.42860068e-01  9.98273887e+02  2.37e+00 9.05e-10  1.12e+03     0s\n",
      "   2  -6.07029410e-02  5.02472155e+02  2.37e-06 9.16e-16  1.68e+02     0s\n",
      "   3  -6.06942386e-02  4.97137993e-01  2.61e-10 2.78e-17  1.86e-01     0s\n",
      "   4  -5.53033556e-02 -2.78632202e-02  3.40e-12 2.78e-17  9.15e-03     0s\n",
      "   5  -5.16903623e-02 -4.92297032e-02  5.55e-17 0.00e+00  8.20e-04     0s\n",
      "   6  -5.14959530e-02 -5.14122580e-02  7.11e-15 2.78e-17  2.79e-05     0s\n",
      "   7  -5.14955978e-02 -5.14955022e-02  8.88e-16 2.78e-17  3.18e-08     0s\n",
      "   8  -5.14955978e-02 -5.14955977e-02  1.78e-15 0.00e+00  3.19e-11     0s\n",
      "\n",
      "Barrier solved model in 8 iterations and 0.00 seconds\n",
      "Optimal objective -5.14955978e-02\n",
      "\n"
     ]
    },
    {
     "data": {
      "text/plain": [
       ":Optimal"
      ]
     },
     "execution_count": 49,
     "metadata": {},
     "output_type": "execute_result"
    }
   ],
   "source": [
    "lambda = 0.2\n",
    "model = Model(solver = GurobiSolver())\n",
    "@variable(model, x[i=1:3] >= 0)\n",
    "@variable(model, z[1:3])\n",
    "@constraint(model, sum(x[i] for i=1:3) == 1)\n",
    "#@constraint(model, [i=1:3], x[i] <= 1)\n",
    "@variable(model, t)\n",
    "@constraint(model, t <= mu'x - lambda * sum(x[i] * (S*x)[i] for i=1:3))\n",
    "@objective(model, Max, t)\n",
    "solve(model)"
   ]
  },
  {
   "cell_type": "code",
   "execution_count": 52,
   "metadata": {},
   "outputs": [
    {
     "data": {
      "text/plain": [
       "3-element Array{Float64,1}:\n",
       " 0.34754402160094183\n",
       " 0.49756719085411183\n",
       " 0.1548887875449463 "
      ]
     },
     "execution_count": 52,
     "metadata": {},
     "output_type": "execute_result"
    }
   ],
   "source": [
    "getvalue(x)"
   ]
  },
  {
   "cell_type": "code",
   "execution_count": null,
   "metadata": {},
   "outputs": [],
   "source": []
  }
 ],
 "metadata": {
  "kernelspec": {
   "display_name": "Julia 1.0.5",
   "language": "julia",
   "name": "julia-1.0"
  },
  "language_info": {
   "file_extension": ".jl",
   "mimetype": "application/julia",
   "name": "julia",
   "version": "1.0.5"
  },
  "varInspector": {
   "cols": {
    "lenName": 16,
    "lenType": 16,
    "lenVar": 40
   },
   "kernels_config": {
    "python": {
     "delete_cmd_postfix": "",
     "delete_cmd_prefix": "del ",
     "library": "var_list.py",
     "varRefreshCmd": "print(var_dic_list())"
    },
    "r": {
     "delete_cmd_postfix": ") ",
     "delete_cmd_prefix": "rm(",
     "library": "var_list.r",
     "varRefreshCmd": "cat(var_dic_list()) "
    }
   },
   "types_to_exclude": [
    "module",
    "function",
    "builtin_function_or_method",
    "instance",
    "_Feature"
   ],
   "window_display": false
  }
 },
 "nbformat": 4,
 "nbformat_minor": 2
}
